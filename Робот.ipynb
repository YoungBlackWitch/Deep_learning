{
 "cells": [
  {
   "cell_type": "code",
   "execution_count": null,
   "metadata": {
    "id": "vKiKd3zlP9Ti",
    "pycharm": {
     "name": "#%%\n"
    }
   },
   "outputs": [],
   "source": [
    "from tensorflow.keras.models import Sequential\n",
    "from tensorflow.keras.layers import Dense, Conv2D, MaxPooling2D, Flatten, Dropout, BatchNormalization\n",
    "from tensorflow.python.keras.preprocessing.image import ImageDataGenerator\n",
    "from tensorflow.keras.optimizers import Adam, Adadelta\n",
    "from tensorflow.keras import utils\n",
    "from tensorflow.keras.preprocessing import image\n",
    "\n",
    "from google.colab import files\n",
    "import numpy as np\n",
    "import matplotlib.pyplot as plt\n",
    "from PIL import Image\n",
    "import random\n",
    "import math\n",
    "import os\n",
    "\n",
    "%matplotlib inline"
   ]
  },
  {
   "cell_type": "code",
   "execution_count": null,
   "metadata": {
    "colab": {
     "base_uri": "https://localhost:8080/"
    },
    "id": "RUwx9v0rRP4K",
    "outputId": "252d2f0a-43f5-4031-ed79-1549ec6b2fb1",
    "pycharm": {
     "name": "#%%\n"
    }
   },
   "outputs": [
    {
     "output_type": "stream",
     "name": "stdout",
     "text": [
      "Drive already mounted at /content/drive; to attempt to forcibly remount, call drive.mount(\"/content/drive\", force_remount=True).\n"
     ]
    }
   ],
   "source": [
    "from google.colab import drive\n",
    "drive.mount('/content/drive')"
   ]
  },
  {
   "cell_type": "code",
   "execution_count": null,
   "metadata": {
    "id": "0cRMRerHRhLe",
    "pycharm": {
     "name": "#%%\n"
    }
   },
   "outputs": [],
   "source": [
    "train_path = 'drive/MyDrive/Colab Notebooks/figures'\n",
    "batch_size = 25\n",
    "img_width = 90\n",
    "img_height = 60"
   ]
  },
  {
   "cell_type": "code",
   "execution_count": null,
   "metadata": {
    "id": "hS77IpSnRhwJ",
    "pycharm": {
     "name": "#%%\n"
    }
   },
   "outputs": [],
   "source": [
    "datagen = ImageDataGenerator(\n",
    "    rescale=1. / 255,\n",
    "    rotation_range=10,\n",
    "    width_shift_range=0.1,\n",
    "    height_shift_range=0.1,\n",
    "    zoom_range=0.1,\n",
    "    horizontal_flip=True,\n",
    "    fill_mode='nearest',\n",
    "    validation_split=0.1\n",
    ")"
   ]
  },
  {
   "cell_type": "code",
   "execution_count": null,
   "metadata": {
    "id": "c8Bhi9KtytU4",
    "pycharm": {
     "name": "#%%\n"
    }
   },
   "outputs": [],
   "source": [
    "def augment_image(image,save_here, datagen, count=9):\n",
    "  image = np.expand_dims(image, 0) \n",
    "  datagen.fit(image)\n",
    "  image_generator = datagen.flow(np.array(image),save_to_dir=save_here, save_prefix='aug',save_format='png')\n",
    "  for _ in range(count):\n",
    "    image_generator.next()\n",
    "    \n",
    "\n"
   ]
  },
  {
   "cell_type": "code",
   "execution_count": null,
   "metadata": {
    "id": "w-oGLZSZuN7a",
    "pycharm": {
     "name": "#%%\n"
    }
   },
   "outputs": [],
   "source": [
    "for category, path in enumerate(os.listdir(train_path)):\n",
    "  dir_path = os.path.join(train_path,path)\n",
    "  for image_path in os.listdir(dir_path):\n",
    "    img = Image.open(os.path.join(dir_path,image_path))\n",
    "    augment_image(img, dir_path, datagen)\n",
    "  \n",
    "  \n"
   ]
  },
  {
   "cell_type": "code",
   "execution_count": null,
   "metadata": {
    "colab": {
     "base_uri": "https://localhost:8080/"
    },
    "id": "BmnTjJv0WAwm",
    "outputId": "c2fce5cd-8086-4ef0-81d7-60442e735878",
    "pycharm": {
     "name": "#%%\n"
    }
   },
   "outputs": [
    {
     "output_type": "stream",
     "name": "stdout",
     "text": [
      "Found 2121 images belonging to 9 classes.\n",
      "Found 229 images belonging to 9 classes.\n"
     ]
    }
   ],
   "source": [
    "train_generator = datagen.flow_from_directory(\n",
    "    train_path,\n",
    "    target_size=(img_width, img_height),\n",
    "    batch_size=batch_size,\n",
    "    class_mode='categorical',\n",
    "    shuffle=True,\n",
    "    subset='training',\n",
    "    seed=42\n",
    ")\n",
    "\n",
    "validation_generator = datagen.flow_from_directory(\n",
    "    train_path,\n",
    "    target_size=(img_width, img_height),\n",
    "    batch_size=batch_size,\n",
    "    class_mode='categorical',\n",
    "    shuffle=True,\n",
    "    subset='validation',\n",
    "    seed=42\n",
    ")"
   ]
  },
  {
   "cell_type": "code",
   "execution_count": null,
   "metadata": {
    "colab": {
     "base_uri": "https://localhost:8080/"
    },
    "id": "AuMCBGcgWhm_",
    "outputId": "fdacf5a0-36df-4a3b-ddd7-33d676df5d80",
    "pycharm": {
     "name": "#%%\n"
    }
   },
   "outputs": [
    {
     "output_type": "stream",
     "name": "stderr",
     "text": [
      "/usr/local/lib/python3.7/dist-packages/keras/optimizer_v2/adadelta.py:74: UserWarning: The `lr` argument is deprecated, use `learning_rate` instead.\n",
      "  super(Adadelta, self).__init__(name, **kwargs)\n"
     ]
    }
   ],
   "source": [
    "model = Sequential()\n",
    "model.add(Conv2D(128,(3,3), padding='same', activation='relu', input_shape=(img_width, img_height,3)))\n",
    "model.add(Conv2D(128,(3,3), padding='same', activation='relu'))\n",
    "model.add(Conv2D(256,(3,3), padding='same', activation='relu'))\n",
    "model.add(MaxPooling2D(pool_size=(3,3)))\n",
    "model.add(Dropout(0.3))\n",
    "\n",
    "model.add(Conv2D(512,(3,3), padding='same', activation='relu'))\n",
    "model.add(Conv2D(512,(3,3), padding='same', activation='relu'))\n",
    "model.add(Conv2D(512,(3,3), padding='same', activation='relu'))\n",
    "model.add(MaxPooling2D(pool_size=(2,2)))\n",
    "model.add(Dropout(0.3))\n",
    "\n",
    "model.add(Flatten())\n",
    "model.add(Dense(256, activation='relu'))\n",
    "model.add(Dense(128, activation='relu'))\n",
    "model.add(Dense(32, activation='relu'))\n",
    "model.add(Dense(len(train_generator.class_indices), activation='softmax'))\n",
    "model.compile(loss='categorical_crossentropy', optimizer=Adadelta(lr=0.005), metrics=['accuracy'])"
   ]
  },
  {
   "cell_type": "code",
   "execution_count": null,
   "metadata": {
    "colab": {
     "base_uri": "https://localhost:8080/"
    },
    "id": "zD6FM6IMW6a7",
    "outputId": "32db0ef6-eb96-472b-a929-b5cabeef0a48",
    "pycharm": {
     "name": "#%%\n"
    }
   },
   "outputs": [
    {
     "output_type": "stream",
     "name": "stdout",
     "text": [
      "Epoch 1/40\n",
      "84/84 [==============================] - 81s 894ms/step - loss: 2.1961 - accuracy: 0.1231 - val_loss: 2.1942 - val_accuracy: 0.1022\n",
      "Epoch 2/40\n",
      "84/84 [==============================] - 79s 945ms/step - loss: 2.1906 - accuracy: 0.1250 - val_loss: 2.1853 - val_accuracy: 0.1111\n",
      "Epoch 3/40\n",
      "84/84 [==============================] - 80s 949ms/step - loss: 2.1740 - accuracy: 0.1622 - val_loss: 2.1545 - val_accuracy: 0.2133\n",
      "Epoch 4/40\n",
      "84/84 [==============================] - 72s 854ms/step - loss: 2.1025 - accuracy: 0.2281 - val_loss: 2.0111 - val_accuracy: 0.3156\n",
      "Epoch 5/40\n",
      "84/84 [==============================] - 72s 858ms/step - loss: 1.8673 - accuracy: 0.2686 - val_loss: 1.7346 - val_accuracy: 0.3111\n",
      "Epoch 6/40\n",
      "84/84 [==============================] - 70s 834ms/step - loss: 1.6284 - accuracy: 0.3244 - val_loss: 1.5044 - val_accuracy: 0.4089\n",
      "Epoch 7/40\n",
      "84/84 [==============================] - 70s 830ms/step - loss: 1.4707 - accuracy: 0.3559 - val_loss: 1.3664 - val_accuracy: 0.3867\n",
      "Epoch 8/40\n",
      "84/84 [==============================] - 70s 827ms/step - loss: 1.3304 - accuracy: 0.4380 - val_loss: 1.2751 - val_accuracy: 0.3911\n",
      "Epoch 9/40\n",
      "84/84 [==============================] - 70s 829ms/step - loss: 1.2165 - accuracy: 0.4742 - val_loss: 1.1704 - val_accuracy: 0.4711\n",
      "Epoch 10/40\n",
      "84/84 [==============================] - 70s 836ms/step - loss: 1.1251 - accuracy: 0.5081 - val_loss: 1.1567 - val_accuracy: 0.4489\n",
      "Epoch 11/40\n",
      "84/84 [==============================] - 70s 831ms/step - loss: 1.0791 - accuracy: 0.5267 - val_loss: 1.0471 - val_accuracy: 0.5467\n",
      "Epoch 12/40\n",
      "84/84 [==============================] - 70s 832ms/step - loss: 1.0229 - accuracy: 0.5439 - val_loss: 1.0283 - val_accuracy: 0.5244\n",
      "Epoch 13/40\n",
      "84/84 [==============================] - 70s 837ms/step - loss: 1.0042 - accuracy: 0.5573 - val_loss: 1.0774 - val_accuracy: 0.5244\n",
      "Epoch 14/40\n",
      "84/84 [==============================] - 70s 821ms/step - loss: 0.9690 - accuracy: 0.5729 - val_loss: 0.9440 - val_accuracy: 0.5822\n",
      "Epoch 15/40\n",
      "84/84 [==============================] - 70s 831ms/step - loss: 0.9628 - accuracy: 0.5720 - val_loss: 0.9645 - val_accuracy: 0.5822\n",
      "Epoch 16/40\n",
      "84/84 [==============================] - 70s 830ms/step - loss: 0.9029 - accuracy: 0.5959 - val_loss: 0.9683 - val_accuracy: 0.6089\n",
      "Epoch 17/40\n",
      "84/84 [==============================] - 71s 851ms/step - loss: 0.8985 - accuracy: 0.6107 - val_loss: 0.8798 - val_accuracy: 0.5956\n",
      "Epoch 18/40\n",
      "84/84 [==============================] - 72s 849ms/step - loss: 0.8847 - accuracy: 0.6064 - val_loss: 0.8722 - val_accuracy: 0.6044\n",
      "Epoch 19/40\n",
      "84/84 [==============================] - 71s 834ms/step - loss: 0.8554 - accuracy: 0.6279 - val_loss: 0.8796 - val_accuracy: 0.6178\n",
      "Epoch 20/40\n",
      "84/84 [==============================] - 71s 839ms/step - loss: 0.8509 - accuracy: 0.6283 - val_loss: 0.8602 - val_accuracy: 0.6356\n",
      "Epoch 21/40\n",
      "84/84 [==============================] - 70s 833ms/step - loss: 0.8425 - accuracy: 0.6288 - val_loss: 0.8353 - val_accuracy: 0.6089\n",
      "Epoch 22/40\n",
      "84/84 [==============================] - 70s 829ms/step - loss: 0.8236 - accuracy: 0.6412 - val_loss: 0.8149 - val_accuracy: 0.6311\n",
      "Epoch 23/40\n",
      "84/84 [==============================] - 69s 824ms/step - loss: 0.8055 - accuracy: 0.6450 - val_loss: 0.7753 - val_accuracy: 0.6444\n",
      "Epoch 24/40\n",
      "84/84 [==============================] - 69s 823ms/step - loss: 0.7866 - accuracy: 0.6598 - val_loss: 0.7674 - val_accuracy: 0.6622\n",
      "Epoch 25/40\n",
      "84/84 [==============================] - 69s 825ms/step - loss: 0.7727 - accuracy: 0.6689 - val_loss: 0.7257 - val_accuracy: 0.6844\n",
      "Epoch 26/40\n",
      "84/84 [==============================] - 69s 822ms/step - loss: 0.7701 - accuracy: 0.6555 - val_loss: 0.7488 - val_accuracy: 0.6756\n",
      "Epoch 27/40\n",
      "84/84 [==============================] - 69s 810ms/step - loss: 0.7526 - accuracy: 0.6818 - val_loss: 0.7764 - val_accuracy: 0.6978\n",
      "Epoch 28/40\n",
      "84/84 [==============================] - 69s 824ms/step - loss: 0.7429 - accuracy: 0.6722 - val_loss: 0.6935 - val_accuracy: 0.6978\n",
      "Epoch 29/40\n",
      "84/84 [==============================] - 69s 821ms/step - loss: 0.7356 - accuracy: 0.6813 - val_loss: 0.6791 - val_accuracy: 0.7422\n",
      "Epoch 30/40\n",
      "84/84 [==============================] - 69s 821ms/step - loss: 0.7146 - accuracy: 0.6880 - val_loss: 0.7717 - val_accuracy: 0.6844\n",
      "Epoch 31/40\n",
      "84/84 [==============================] - 69s 817ms/step - loss: 0.7080 - accuracy: 0.6837 - val_loss: 0.7196 - val_accuracy: 0.6844\n",
      "Epoch 32/40\n",
      "84/84 [==============================] - 68s 805ms/step - loss: 0.7034 - accuracy: 0.7032 - val_loss: 0.6544 - val_accuracy: 0.7289\n",
      "Epoch 33/40\n",
      "84/84 [==============================] - 69s 825ms/step - loss: 0.7049 - accuracy: 0.6894 - val_loss: 0.6413 - val_accuracy: 0.7022\n",
      "Epoch 34/40\n",
      "84/84 [==============================] - 69s 825ms/step - loss: 0.6967 - accuracy: 0.6875 - val_loss: 0.6404 - val_accuracy: 0.7378\n",
      "Epoch 35/40\n",
      "84/84 [==============================] - 70s 828ms/step - loss: 0.6811 - accuracy: 0.7004 - val_loss: 0.6654 - val_accuracy: 0.6978\n",
      "Epoch 36/40\n",
      "84/84 [==============================] - 69s 824ms/step - loss: 0.6890 - accuracy: 0.7123 - val_loss: 0.6364 - val_accuracy: 0.7378\n",
      "Epoch 37/40\n",
      "84/84 [==============================] - 69s 809ms/step - loss: 0.6726 - accuracy: 0.7266 - val_loss: 0.6928 - val_accuracy: 0.7200\n",
      "Epoch 38/40\n",
      "84/84 [==============================] - 69s 818ms/step - loss: 0.6651 - accuracy: 0.7066 - val_loss: 0.6407 - val_accuracy: 0.7333\n",
      "Epoch 39/40\n",
      "84/84 [==============================] - 69s 823ms/step - loss: 0.6271 - accuracy: 0.7295 - val_loss: 0.6104 - val_accuracy: 0.7511\n",
      "Epoch 40/40\n",
      "84/84 [==============================] - 69s 822ms/step - loss: 0.6595 - accuracy: 0.7166 - val_loss: 0.6653 - val_accuracy: 0.7244\n"
     ]
    }
   ],
   "source": [
    "history = model.fit(\n",
    "    train_generator,\n",
    "    steps_per_epoch = train_generator.samples // batch_size,\n",
    "    validation_data = validation_generator, \n",
    "    validation_steps = validation_generator.samples // batch_size,\n",
    "    epochs=40,\n",
    "    verbose=1\n",
    ")"
   ]
  },
  {
   "cell_type": "code",
   "execution_count": null,
   "metadata": {
    "colab": {
     "base_uri": "https://localhost:8080/"
    },
    "id": "MMetSOcX7p8Q",
    "outputId": "b68e2bff-6b4e-4f60-a1ab-6e09ba80e3c7",
    "pycharm": {
     "name": "#%%\n"
    }
   },
   "outputs": [
    {
     "output_type": "stream",
     "name": "stderr",
     "text": [
      "/usr/local/lib/python3.7/dist-packages/keras/optimizer_v2/adadelta.py:74: UserWarning: The `lr` argument is deprecated, use `learning_rate` instead.\n",
      "  super(Adadelta, self).__init__(name, **kwargs)\n"
     ]
    },
    {
     "output_type": "stream",
     "name": "stdout",
     "text": [
      "Epoch 1/15\n",
      "84/84 [==============================] - 71s 830ms/step - loss: 0.5998 - accuracy: 0.7538 - val_loss: 0.6050 - val_accuracy: 0.7422\n",
      "Epoch 2/15\n",
      "84/84 [==============================] - 69s 813ms/step - loss: 0.6068 - accuracy: 0.7433 - val_loss: 0.5890 - val_accuracy: 0.7689\n",
      "Epoch 3/15\n",
      "84/84 [==============================] - 69s 826ms/step - loss: 0.6008 - accuracy: 0.7529 - val_loss: 0.5324 - val_accuracy: 0.8089\n",
      "Epoch 4/15\n",
      "84/84 [==============================] - 70s 832ms/step - loss: 0.6028 - accuracy: 0.7457 - val_loss: 0.6277 - val_accuracy: 0.7289\n",
      "Epoch 5/15\n",
      "84/84 [==============================] - 69s 823ms/step - loss: 0.5926 - accuracy: 0.7419 - val_loss: 0.5961 - val_accuracy: 0.7822\n",
      "Epoch 6/15\n",
      "84/84 [==============================] - 69s 814ms/step - loss: 0.5761 - accuracy: 0.7576 - val_loss: 0.5659 - val_accuracy: 0.7733\n",
      "Epoch 7/15\n",
      "84/84 [==============================] - 69s 823ms/step - loss: 0.5920 - accuracy: 0.7457 - val_loss: 0.6273 - val_accuracy: 0.7467\n",
      "Epoch 8/15\n",
      "84/84 [==============================] - 70s 831ms/step - loss: 0.5888 - accuracy: 0.7476 - val_loss: 0.5460 - val_accuracy: 0.7867\n",
      "Epoch 9/15\n",
      "84/84 [==============================] - 70s 829ms/step - loss: 0.5911 - accuracy: 0.7481 - val_loss: 0.5939 - val_accuracy: 0.7644\n",
      "Epoch 10/15\n",
      "84/84 [==============================] - 70s 827ms/step - loss: 0.5648 - accuracy: 0.7734 - val_loss: 0.5552 - val_accuracy: 0.7867\n",
      "Epoch 11/15\n",
      "84/84 [==============================] - 70s 825ms/step - loss: 0.5720 - accuracy: 0.7557 - val_loss: 0.5174 - val_accuracy: 0.8000\n",
      "Epoch 12/15\n",
      "84/84 [==============================] - 70s 823ms/step - loss: 0.5693 - accuracy: 0.7595 - val_loss: 0.6134 - val_accuracy: 0.7733\n",
      "Epoch 13/15\n",
      "84/84 [==============================] - 70s 831ms/step - loss: 0.5772 - accuracy: 0.7481 - val_loss: 0.5364 - val_accuracy: 0.7644\n",
      "Epoch 14/15\n",
      "84/84 [==============================] - 70s 828ms/step - loss: 0.5671 - accuracy: 0.7662 - val_loss: 0.5419 - val_accuracy: 0.7778\n",
      "Epoch 15/15\n",
      "84/84 [==============================] - 69s 826ms/step - loss: 0.5725 - accuracy: 0.7653 - val_loss: 0.5226 - val_accuracy: 0.7822\n",
      "Epoch 1/10\n",
      "84/84 [==============================] - 71s 840ms/step - loss: 0.5540 - accuracy: 0.7700 - val_loss: 0.5964 - val_accuracy: 0.7644\n",
      "Epoch 2/10\n",
      "84/84 [==============================] - 70s 828ms/step - loss: 0.5586 - accuracy: 0.7719 - val_loss: 0.5441 - val_accuracy: 0.7822\n",
      "Epoch 3/10\n",
      "84/84 [==============================] - 70s 820ms/step - loss: 0.5486 - accuracy: 0.7734 - val_loss: 0.5661 - val_accuracy: 0.8044\n",
      "Epoch 4/10\n",
      "84/84 [==============================] - 70s 828ms/step - loss: 0.5514 - accuracy: 0.7781 - val_loss: 0.5767 - val_accuracy: 0.7778\n",
      "Epoch 5/10\n",
      "84/84 [==============================] - 69s 827ms/step - loss: 0.5529 - accuracy: 0.7719 - val_loss: 0.5222 - val_accuracy: 0.8089\n",
      "Epoch 6/10\n",
      "84/84 [==============================] - 69s 825ms/step - loss: 0.5283 - accuracy: 0.7748 - val_loss: 0.4852 - val_accuracy: 0.7867\n",
      "Epoch 7/10\n",
      "84/84 [==============================] - 69s 826ms/step - loss: 0.5563 - accuracy: 0.7657 - val_loss: 0.5167 - val_accuracy: 0.7867\n",
      "Epoch 8/10\n",
      "84/84 [==============================] - 70s 829ms/step - loss: 0.5670 - accuracy: 0.7662 - val_loss: 0.5451 - val_accuracy: 0.7778\n",
      "Epoch 9/10\n",
      "84/84 [==============================] - 69s 826ms/step - loss: 0.5564 - accuracy: 0.7657 - val_loss: 0.4927 - val_accuracy: 0.7911\n",
      "Epoch 10/10\n",
      "84/84 [==============================] - 70s 828ms/step - loss: 0.5554 - accuracy: 0.7629 - val_loss: 0.5247 - val_accuracy: 0.8133\n"
     ]
    }
   ],
   "source": [
    "model.compile(loss='categorical_crossentropy', optimizer=Adadelta(lr=0.001), metrics=['accuracy'])\n",
    "\n",
    "history = model.fit(\n",
    "    train_generator,\n",
    "    steps_per_epoch = train_generator.samples // batch_size,\n",
    "    validation_data = validation_generator, \n",
    "    validation_steps = validation_generator.samples // batch_size,\n",
    "    epochs=15,\n",
    "    verbose=1\n",
    ")\n",
    "\n",
    "model.compile(loss='categorical_crossentropy', optimizer=Adadelta(lr=0.0005), metrics=['accuracy'])\n",
    "\n",
    "history = model.fit(\n",
    "    train_generator,\n",
    "    steps_per_epoch = train_generator.samples // batch_size,\n",
    "    validation_data = validation_generator, \n",
    "    validation_steps = validation_generator.samples // batch_size,\n",
    "    epochs=10,\n",
    "    verbose=1\n",
    ")"
   ]
  },
  {
   "cell_type": "code",
   "execution_count": null,
   "metadata": {
    "colab": {
     "base_uri": "https://localhost:8080/",
     "height": 442
    },
    "id": "luTPLp1sXCA2",
    "outputId": "cde183ea-0196-4576-d309-d66c287fb277",
    "pycharm": {
     "name": "#%%\n"
    }
   },
   "outputs": [
    {
     "output_type": "display_data",
     "data": {
      "image/png": "[encoded data removed]",
      "text/plain": [
       "<Figure size 1008x504 with 1 Axes>"
      ]
     },
     "metadata": {
      "needs_background": "light"
     }
    }
   ],
   "source": [
    "plt.figure(figsize = (14, 7))\n",
    "plt.plot(history.history['accuracy'], \n",
    "         label='Доля верных ответов на обучающем наборе')\n",
    "plt.plot(history.history['val_accuracy'], \n",
    "         label='Доля верных ответов на проверочном наборе')\n",
    "plt.xlabel('Эпоха обучения')\n",
    "plt.ylabel('Доля верных ответов')\n",
    "plt.legend()\n",
    "plt.show()"
   ]
  },
  {
   "cell_type": "code",
   "execution_count": null,
   "metadata": {
    "id": "-2s94riSXZPu",
    "colab": {
     "base_uri": "https://localhost:8080/",
     "height": 171
    },
    "outputId": "2cdafe13-e1e5-43ac-bfbc-79848f1f9bb1",
    "pycharm": {
     "name": "#%%\n"
    }
   },
   "outputs": [
    {
     "output_type": "error",
     "ename": "NameError",
     "evalue": "ignored",
     "traceback": [
      "\u001B[0;31m---------------------------------------------------------------------------\u001B[0m",
      "\u001B[0;31mNameError\u001B[0m                                 Traceback (most recent call last)",
      "\u001B[0;32m<ipython-input-28-b5d96264da6c>\u001B[0m in \u001B[0;36m<module>\u001B[0;34m()\u001B[0m\n\u001B[0;32m----> 1\u001B[0;31m \u001B[0mpred\u001B[0m \u001B[0;34m=\u001B[0m \u001B[0mrecognizeMultiClass\u001B[0m\u001B[0;34m(\u001B[0m\u001B[0mmodel\u001B[0m\u001B[0;34m,\u001B[0m \u001B[0mvalidation_generator9Classes\u001B[0m\u001B[0;34m,\u001B[0m \u001B[0;34m\"Предсказание модели\"\u001B[0m\u001B[0;34m)\u001B[0m\u001B[0;34m\u001B[0m\u001B[0;34m\u001B[0m\u001B[0m\n\u001B[0m",
      "\u001B[0;31mNameError\u001B[0m: name 'recognizeMultiClass' is not defined"
     ]
    }
   ],
   "source": [
    "pred = recognizeMultiClass(model, validation_generator9Classes, \"Предсказание модели\")"
   ]
  }
 ],
 "metadata": {
  "accelerator": "GPU",
  "colab": {
   "provenance": []
  },
  "kernelspec": {
   "display_name": "Python 3",
   "name": "python3"
  },
  "language_info": {
   "name": "python"
  }
 },
 "nbformat": 4,
 "nbformat_minor": 0
}