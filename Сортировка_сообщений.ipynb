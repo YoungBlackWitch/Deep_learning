{
  "nbformat": 4,
  "nbformat_minor": 0,
  "metadata": {
    "colab": {
      "provenance": []
    },
    "kernelspec": {
      "name": "python3",
      "display_name": "Python 3"
    },
    "language_info": {
      "name": "python"
    },
    "accelerator": "GPU",
    "gpuClass": "standard"
  },
  "cells": [
    {
      "cell_type": "code",
      "metadata": {
        "id": "qmCcr9a_McHc"
      },
      "source": [
        "from google.colab import files\n",
        "import numpy as np\n",
        "import pandas as pd\n",
        "import matplotlib.pyplot as plt\n",
        "import os\n",
        "\n",
        "from tensorflow.keras import utils\n",
        "from tensorflow.keras.models import Sequential\n",
        "from tensorflow.keras.optimizers import Adam\n",
        "from tensorflow.keras.layers import Dense, Flatten, BatchNormalization, Dropout, SpatialDropout1D, Embedding, Activation\n",
        "from tensorflow.keras.preprocessing.text import Tokenizer\n",
        "from tensorflow.keras.preprocessing.sequence import pad_sequences\n",
        "\n",
        "from sklearn.preprocessing import LabelEncoder\n",
        "from sklearn.model_selection import train_test_split"
      ],
      "execution_count": 1,
      "outputs": []
    },
    {
      "cell_type": "code",
      "metadata": {
        "colab": {
          "base_uri": "https://localhost:8080/"
        },
        "id": "A8fr9MQY2OPh",
        "outputId": "1289f8d5-acfb-4c82-87cd-ab4b26081ec9"
      },
      "source": [
        "from google.colab import drive\n",
        "drive.mount('/content/drive')"
      ],
      "execution_count": 2,
      "outputs": [
        {
          "output_type": "stream",
          "name": "stdout",
          "text": [
            "Mounted at /content/drive\n"
          ]
        }
      ]
    },
    {
      "cell_type": "code",
      "metadata": {
        "colab": {
          "base_uri": "https://localhost:8080/",
          "height": 363
        },
        "id": "CL6Y73X82geZ",
        "outputId": "c1efaf94-3bcf-41d2-c117-d359856a5d72"
      },
      "source": [
        "ms = pd.read_csv('drive/MyDrive/Colab Notebooks/psy.csv', sep=',')\n",
        "ms = ms.iloc[:,3:5]\n",
        "ms[:10]"
      ],
      "execution_count": 3,
      "outputs": [
        {
          "output_type": "execute_result",
          "data": {
            "text/plain": [
              "                                             content  class\n",
              "0  Huh, anyway check out this you[tube] channel: ...   True\n",
              "1  Hey guys check out my new channel and our firs...   True\n",
              "2             just for test I have to say murdev.com   True\n",
              "3   me shaking my sexy ass on my channel enjoy ^_^ ﻿   True\n",
              "4            watch?v=vtaRGgvGtWQ   Check this out .﻿   True\n",
              "5  Hey, check out my new website!! This site is a...   True\n",
              "6                          Subscribe to my channel ﻿   True\n",
              "7  i turned it on mute as soon is i came on i jus...  False\n",
              "8    You should check my channel for Funny VIDEOS!!﻿   True\n",
              "9  and u should.d check my channel and tell me wh...   True"
            ],
            "text/html": [
              "\n",
              "  <div id=\"df-47dd2b75-98d6-47c3-9bd6-0cd84db1f206\">\n",
              "    <div class=\"colab-df-container\">\n",
              "      <div>\n",
              "<style scoped>\n",
              "    .dataframe tbody tr th:only-of-type {\n",
              "        vertical-align: middle;\n",
              "    }\n",
              "\n",
              "    .dataframe tbody tr th {\n",
              "        vertical-align: top;\n",
              "    }\n",
              "\n",
              "    .dataframe thead th {\n",
              "        text-align: right;\n",
              "    }\n",
              "</style>\n",
              "<table border=\"1\" class=\"dataframe\">\n",
              "  <thead>\n",
              "    <tr style=\"text-align: right;\">\n",
              "      <th></th>\n",
              "      <th>content</th>\n",
              "      <th>class</th>\n",
              "    </tr>\n",
              "  </thead>\n",
              "  <tbody>\n",
              "    <tr>\n",
              "      <th>0</th>\n",
              "      <td>Huh, anyway check out this you[tube] channel: ...</td>\n",
              "      <td>True</td>\n",
              "    </tr>\n",
              "    <tr>\n",
              "      <th>1</th>\n",
              "      <td>Hey guys check out my new channel and our firs...</td>\n",
              "      <td>True</td>\n",
              "    </tr>\n",
              "    <tr>\n",
              "      <th>2</th>\n",
              "      <td>just for test I have to say murdev.com</td>\n",
              "      <td>True</td>\n",
              "    </tr>\n",
              "    <tr>\n",
              "      <th>3</th>\n",
              "      <td>me shaking my sexy ass on my channel enjoy ^_^ ﻿</td>\n",
              "      <td>True</td>\n",
              "    </tr>\n",
              "    <tr>\n",
              "      <th>4</th>\n",
              "      <td>watch?v=vtaRGgvGtWQ   Check this out .﻿</td>\n",
              "      <td>True</td>\n",
              "    </tr>\n",
              "    <tr>\n",
              "      <th>5</th>\n",
              "      <td>Hey, check out my new website!! This site is a...</td>\n",
              "      <td>True</td>\n",
              "    </tr>\n",
              "    <tr>\n",
              "      <th>6</th>\n",
              "      <td>Subscribe to my channel ﻿</td>\n",
              "      <td>True</td>\n",
              "    </tr>\n",
              "    <tr>\n",
              "      <th>7</th>\n",
              "      <td>i turned it on mute as soon is i came on i jus...</td>\n",
              "      <td>False</td>\n",
              "    </tr>\n",
              "    <tr>\n",
              "      <th>8</th>\n",
              "      <td>You should check my channel for Funny VIDEOS!!﻿</td>\n",
              "      <td>True</td>\n",
              "    </tr>\n",
              "    <tr>\n",
              "      <th>9</th>\n",
              "      <td>and u should.d check my channel and tell me wh...</td>\n",
              "      <td>True</td>\n",
              "    </tr>\n",
              "  </tbody>\n",
              "</table>\n",
              "</div>\n",
              "      <button class=\"colab-df-convert\" onclick=\"convertToInteractive('df-47dd2b75-98d6-47c3-9bd6-0cd84db1f206')\"\n",
              "              title=\"Convert this dataframe to an interactive table.\"\n",
              "              style=\"display:none;\">\n",
              "        \n",
              "  <svg xmlns=\"http://www.w3.org/2000/svg\" height=\"24px\"viewBox=\"0 0 24 24\"\n",
              "       width=\"24px\">\n",
              "    <path d=\"M0 0h24v24H0V0z\" fill=\"none\"/>\n",
              "    <path d=\"M18.56 5.44l.94 2.06.94-2.06 2.06-.94-2.06-.94-.94-2.06-.94 2.06-2.06.94zm-11 1L8.5 8.5l.94-2.06 2.06-.94-2.06-.94L8.5 2.5l-.94 2.06-2.06.94zm10 10l.94 2.06.94-2.06 2.06-.94-2.06-.94-.94-2.06-.94 2.06-2.06.94z\"/><path d=\"M17.41 7.96l-1.37-1.37c-.4-.4-.92-.59-1.43-.59-.52 0-1.04.2-1.43.59L10.3 9.45l-7.72 7.72c-.78.78-.78 2.05 0 2.83L4 21.41c.39.39.9.59 1.41.59.51 0 1.02-.2 1.41-.59l7.78-7.78 2.81-2.81c.8-.78.8-2.07 0-2.86zM5.41 20L4 18.59l7.72-7.72 1.47 1.35L5.41 20z\"/>\n",
              "  </svg>\n",
              "      </button>\n",
              "      \n",
              "  <style>\n",
              "    .colab-df-container {\n",
              "      display:flex;\n",
              "      flex-wrap:wrap;\n",
              "      gap: 12px;\n",
              "    }\n",
              "\n",
              "    .colab-df-convert {\n",
              "      background-color: #E8F0FE;\n",
              "      border: none;\n",
              "      border-radius: 50%;\n",
              "      cursor: pointer;\n",
              "      display: none;\n",
              "      fill: #1967D2;\n",
              "      height: 32px;\n",
              "      padding: 0 0 0 0;\n",
              "      width: 32px;\n",
              "    }\n",
              "\n",
              "    .colab-df-convert:hover {\n",
              "      background-color: #E2EBFA;\n",
              "      box-shadow: 0px 1px 2px rgba(60, 64, 67, 0.3), 0px 1px 3px 1px rgba(60, 64, 67, 0.15);\n",
              "      fill: #174EA6;\n",
              "    }\n",
              "\n",
              "    [theme=dark] .colab-df-convert {\n",
              "      background-color: #3B4455;\n",
              "      fill: #D2E3FC;\n",
              "    }\n",
              "\n",
              "    [theme=dark] .colab-df-convert:hover {\n",
              "      background-color: #434B5C;\n",
              "      box-shadow: 0px 1px 3px 1px rgba(0, 0, 0, 0.15);\n",
              "      filter: drop-shadow(0px 1px 2px rgba(0, 0, 0, 0.3));\n",
              "      fill: #FFFFFF;\n",
              "    }\n",
              "  </style>\n",
              "\n",
              "      <script>\n",
              "        const buttonEl =\n",
              "          document.querySelector('#df-47dd2b75-98d6-47c3-9bd6-0cd84db1f206 button.colab-df-convert');\n",
              "        buttonEl.style.display =\n",
              "          google.colab.kernel.accessAllowed ? 'block' : 'none';\n",
              "\n",
              "        async function convertToInteractive(key) {\n",
              "          const element = document.querySelector('#df-47dd2b75-98d6-47c3-9bd6-0cd84db1f206');\n",
              "          const dataTable =\n",
              "            await google.colab.kernel.invokeFunction('convertToInteractive',\n",
              "                                                     [key], {});\n",
              "          if (!dataTable) return;\n",
              "\n",
              "          const docLinkHtml = 'Like what you see? Visit the ' +\n",
              "            '<a target=\"_blank\" href=https://colab.research.google.com/notebooks/data_table.ipynb>data table notebook</a>'\n",
              "            + ' to learn more about interactive tables.';\n",
              "          element.innerHTML = '';\n",
              "          dataTable['output_type'] = 'display_data';\n",
              "          await google.colab.output.renderOutput(dataTable, element);\n",
              "          const docLink = document.createElement('div');\n",
              "          docLink.innerHTML = docLinkHtml;\n",
              "          element.appendChild(docLink);\n",
              "        }\n",
              "      </script>\n",
              "    </div>\n",
              "  </div>\n",
              "  "
            ]
          },
          "metadata": {},
          "execution_count": 3
        }
      ]
    },
    {
      "cell_type": "code",
      "metadata": {
        "colab": {
          "base_uri": "https://localhost:8080/"
        },
        "id": "aw5WGBL4-J7q",
        "outputId": "6178e542-98aa-48b3-fda8-b57ed0e70c9c"
      },
      "source": [
        "texts = ms['content'].values\n",
        "classes = list(ms['class'].values)\n",
        "maxWordsCount = 60000\n",
        "print(ms['class'].unique())\n",
        "nClasses = ms['class'].nunique()+1 \n",
        "print(nClasses)"
      ],
      "execution_count": 4,
      "outputs": [
        {
          "output_type": "stream",
          "name": "stdout",
          "text": [
            "[ True False]\n",
            "3\n"
          ]
        }
      ]
    },
    {
      "cell_type": "code",
      "metadata": {
        "id": "-wt2FqsV2_UN"
      },
      "source": [
        "tokenizer = Tokenizer(num_words=maxWordsCount, filters='!\"#$%&()*+,-./:;<=>?@[\\\\]^_`{|}~\\t\\n', lower=True, split=' ',oov_token='unknown',char_level=False)\n",
        "tokenizer.fit_on_texts(texts)\n",
        "\n",
        "xall = tokenizer.texts_to_matrix(texts)"
      ],
      "execution_count": 5,
      "outputs": []
    },
    {
      "cell_type": "code",
      "metadata": {
        "colab": {
          "base_uri": "https://localhost:8080/"
        },
        "id": "v7cw2rabAEKi",
        "outputId": "7b5c6fee-6117-4ec5-bad7-e8c04bfeac80"
      },
      "source": [
        "print(tokenizer.word_index.items())"
      ],
      "execution_count": 6,
      "outputs": [
        {
          "output_type": "stream",
          "name": "stdout",
          "text": [
            "dict_items([('unknown', 1), ('\\ufeff', 2), ('the', 3), ('to', 4), ('i', 5), ('and', 6), ('this', 7), ('my', 8), ('you', 9), ('http', 10), ('a', 11), ('check', 12), ('is', 13), ('views', 14), ('com', 15), ('2', 16), ('www', 17), ('of', 18), ('subscribe', 19), ('on', 20), ('out', 21), ('me', 22), ('it', 23), ('video', 24), ('please', 25), ('channel', 26), ('for', 27), ('like', 28), ('so', 29), ('billion', 30), ('in', 31), ('if', 32), ('have', 33), ('https', 34), ('just', 35), ('get', 36), ('can', 37), ('youtube', 38), ('song', 39), ('are', 40), ('be', 41), ('people', 42), ('here', 43), ('how', 44), ('that', 45), ('amp', 46), ('music', 47), ('1', 48), ('image2you', 49), ('ru', 50), ('48051', 51), ('not', 52), ('only', 53), ('new', 54), ('what', 55), ('we', 56), ('at', 57), ('psy', 58), ('guys', 59), ('videos', 60), ('will', 61), ('they', 62), ('there', 63), ('do', 64), ('hey', 65), ('d', 66), ('but', 67), ('facebook', 68), ('your', 69), ('money', 70), ('even', 71), ('has', 72), ('000', 73), (\"don't\", 74), ('more', 75), ('thanks', 76), ('everyone', 77), ('why', 78), ('was', 79), ('see', 80), (\"i'm\", 81), ('funny', 82), ('now', 83), ('free', 84), ('with', 85), ('plz', 86), ('our', 87), ('comment', 88), ('one', 89), ('much', 90), ('think', 91), ('go', 92), ('world', 93), ('7', 94), ('when', 95), ('he', 96), ('3', 97), ('still', 98), ('about', 99), ('u', 100), ('follow', 101), ('come', 102), ('from', 103), ('dont', 104), ('its', 105), ('most', 106), ('know', 107), ('gangnam', 108), ('us', 109), ('v', 110), ('all', 111), ('im', 112), ('would', 113), ('sub', 114), ('does', 115), ('back', 116), ('by', 117), ('because', 118), ('over', 119), ('style', 120), ('comments', 121), ('co', 122), ('first', 123), ('watch', 124), ('came', 125), ('also', 126), ('or', 127), ('some', 128), ('really', 129), ('up', 130), ('m', 131), ('gift', 132), ('million', 133), ('want', 134), ('twitter', 135), ('any', 136), ('d\\ufeff', 137), ('no', 138), ('time', 139), ('help', 140), ('watching', 141), ('viewed', 142), ('e', 143), ('subscribers', 144), ('many', 145), ('tsu', 146), ('am', 147), ('8', 148), ('shit', 149), ('years', 150), ('ermail', 151), ('pl', 152), ('dolacz', 153), ('as', 154), ('day', 155), ('got', 156), ('old', 157), ('best', 158), ('hate', 159), ('ref', 160), ('share', 161), ('great', 162), ('omg', 163), ('thing', 164), (\"it's\", 165), ('강남스타일', 166), ('lol\\ufeff', 167), ('cards', 168), ('lol', 169), ('v3veygin', 170), ('earth', 171), ('soon', 172), ('started', 173), ('views\\ufeff', 174), ('100', 175), ('who', 176), ('earn', 177), ('made', 178), ('korean', 179), ('4', 180), ('buy', 181), ('awesome', 182), ('minecraft', 183), ('channel\\ufeff', 184), ('twitch', 185), ('org', 186), ('reach', 187), ('play', 188), ('hi', 189), ('while', 190), ('gt', 191), ('lt', 192), ('before', 193), ('google', 194), ('too', 195), ('dance', 196), ('name', 197), ('than', 198), ('little', 199), ('say', 200), ('enjoy', 201), ('wanted', 202), ('should', 203), ('tell', 204), ('right', 205), ('checking', 206), ('an', 207), ('company', 208), ('real', 209), ('make', 210), ('apps', 211), ('takes', 212), ('could', 213), ('give', 214), ('projects', 215), (\"i'll\", 216), ('tv', 217), ('3\\ufeff', 218), ('2014', 219), ('chance', 220), ('popular', 221), ('gets', 222), ('wow', 223), ('fuck', 224), ('gofundme', 225), ('2billion', 226), ('saying', 227), ('need', 228), ('likes', 229), ('xd\\ufeff', 230), ('5', 231), ('getting', 232), ('such', 233), ('❤️', 234), ('where', 235), ('again', 236), ('posts', 237), ('guy', 238), ('him', 239), ('months', 240), ('tumor', 241), (\"there's\", 242), ('6', 243), ('did', 244), ('hits', 245), ('la', 246), ('leave', 247), ('sexy', 248), ('site', 249), (\"you're\", 250), ('hello', 251), ('gaming', 252), ('ebay', 253), ('news', 254), ('game', 255), ('8bit', 256), ('checked', 257), ('remix', 258), ('mean', 259), ('p\\ufeff', 260), ('suscribe', 261), ('raw', 262), ('x', 263), ('pls', 264), ('change', 265), ('friend', 266), ('every', 267), ('quite', 268), ('beautiful', 269), ('hackfbaccountlive', 270), ('type', 271), ('appreciate', 272), ('youtu', 273), ('9bzkp7q19f0\\ufeff', 274), ('use', 275), ('amazon', 276), ('itunes', 277), ('other', 278), ('then', 279), (\"you'll\", 280), ('half', 281), ('them', 282), ('deserve', 283), ('keep', 284), ('understand', 285), ('youtuber', 286), ('miss', 287), ('click', 288), ('never', 289), ('love', 290), ('0', 291), ('korea', 292), ('justin', 293), ('ago', 294), ('epic', 295), ('stupid', 296), ('oppa', 297), ('p', 298), ('register', 299), ('face', 300), ('watched', 301), ('nice', 302), ('network', 303), ('fb', 304), ('paid', 305), ('going', 306), ('dick', 307), ('left', 308), ('good', 309), ('girls', 310), ('fucking', 311), ('sad', 312), ('very', 313), ('brain', 314), ('live', 315), ('were', 316), ('away', 317), ('self', 318), ('school', 319), ('clothes', 320), ('these', 321), ('ass', 322), ('next', 323), ('me\\ufeff', 324), ('reading', 325), ('entire', 326), ('family', 327), ('stay', 328), ('alive', 329), ('lyrics', 330), (\"we've\", 331), ('hope', 332), ('cover', 333), ('itm', 334), ('sspagename', 335), ('strk', 336), ('meselx', 337), ('trksid', 338), ('p3984', 339), ('m1555', 340), ('l2649', 341), ('tops', 342), ('shirts', 343), ('visit', 344), ('show', 345), ('teespring', 346), ('marketglory', 347), ('strategygame', 348), ('rap', 349), ('yeah', 350), ('anymore', 351), ('android', 352), ('games', 353), ('newest', 354), ('memories', 355), ('took', 356), ('coming', 357), ('support', 358), ('last', 359), ('listen', 360), ('ever', 361), ('10', 362), ('ill', 363), ('improve', 364), ('after', 365), ('web', 366), ('talent', 367), ('straight', 368), ('view', 369), ('9', 370), ('hit', 371), ('pages', 372), ('page', 373), ('gwar', 374), ('2015', 375), ('football', 376), ('super', 377), ('history', 378), ('dislikes', 379), ('dislike', 380), (\"isn't\", 381), ('actually', 382), ('been', 383), ('fablife', 384), ('welcome', 385), ('his', 386), ('absolutely', 387), ('promise', 388), ('suck', 389), ('covers', 390), ('group', 391), ('myself', 392), ('feedback', 393), ('top', 394), ('auditioning', 395), ('read', 396), ('xd', 397), ('section', 398), ('active', 399), ('ching', 400), ('sty', 401), ('indiegogo', 402), ('anyone', 403), ('card', 404), ('code', 405), ('asian', 406), ('try', 407), ('l', 408), ('anybody', 409), ('viewer', 410), ('chinese', 411), ('english', 412), ('hoppa', 413), ('style\\ufeff', 414), ('song\\ufeff', 415), ('lot', 416), ('pictures', 417), ('plus', 418), ('china', 419), ('v\\ufeff', 420), ('had', 421), ('holy', 422), ('person', 423), ('zombie', 424), ('wow\\ufeff', 425), ('guys\\ufeff', 426), ('uk', 427), ('juno', 428), ('wallet', 429), ('task', 430), ('join', 431), ('bieber', 432), ('well', 433), ('least', 434), ('aspx', 435), ('put', 436), ('it\\ufeff', 437), ('gun', 438), ('add', 439), ('pay', 440), ('soundcloud', 441), ('ready', 442), ('look', 443), ('mind', 444), ('vids', 445), ('sr', 446), ('qid', 447), ('1415297812', 448), ('refurbished', 449), ('christmas', 450), ('spam', 451), (\"c'mon\", 452), ('social', 453), ('worldwide', 454), ('sharing', 455), ('multiple', 456), ('expensive', 457), ('126', 458), ('population', 459), ('c', 460), ('o', 461), ('book', 462), ('care', 463), ('whatever', 464), ('piece', 465), ('having', 466), ('whole', 467), ('stuck', 468), ('smart', 469), ('knows', 470), ('pray', 471), ('head', 472), ('sucks', 473), ('december', 474), ('dumb', 475), ('mom', 476), ('her', 477), ('mine', 478), ('hard', 479), ('child', 480), ('dancing', 481), ('suffering', 482), ('praying', 483), ('5million', 484), ('hacked', 485), ('cool', 486), ('loved', 487), ('girl', 488), ('mabey', 489), ('those', 490), ('michael', 491), ('jackson', 492), ('laugh', 493), ('posting', 494), ('part', 495), ('baby', 496), ('content', 497), ('127', 498), ('2014\\ufeff', 499), ('almost', 500), ('planet', 501), ('joking', 502), ('college', 503), ('photos', 504), ('theater', 505), ('alone', 506), ('pretty', 507), ('she', 508), ('done', 509), ('salon', 510), ('goal', 511), (\"let's\", 512), ('subs\\ufeff', 513), ('fuego', 514), ('hyperurl', 515), ('k6a5xt\\ufeff', 516), ('salt', 517), ('ur', 518), ('montages', 519), ('id', 520), ('bing', 521), ('rewards', 522), ('link', 523), ('download', 524), ('photo', 525), ('huh', 526), ('anyway', 527), ('tube', 528), ('kobyoshi02', 529), ('vid', 530), ('monkeys', 531), ('monkey', 532), ('white', 533), ('shirt', 534), ('test', 535), ('murdev', 536), ('shaking', 537), ('vtarggvgtwq', 538), ('website', 539), ('kids', 540), ('stuff', 541), ('kidsmediausa', 542), ('turned', 543), ('mute', 544), ('once', 545), ('stop', 546), ('within', 547), ('die', 548), ('gbphotographygb\\ufeff', 549), ('comment\\ufeff', 550), ('premium', 551), ('easypromosapp', 552), ('voteme', 553), ('19924', 554), ('616375350\\ufeff', 555), ('art', 556), ('scientific', 557), ('experiments', 558), ('tutorials', 559), ('able', 560), ('expectations', 561), ('far', 562), ('171183229277', 563), ('ubuntuone', 564), ('40beuutvu2zkxk4utgpz8k\\ufeff', 565), ('edm', 566), ('apparel', 567), ('dedicated', 568), ('bringing', 569), ('inspired', 570), ('designs', 571), ('clothing', 572), ('perfect', 573), ('rave', 574), ('festival', 575), ('neon', 576), ('crop', 577), ('tank', 578), ('t', 579), ('necks', 580), ('accessories', 581), ('instagraml', 582), ('giveaways', 583), ('oncueapparel\\ufeff', 584), ('millions', 585), ('auburn', 586), ('pride', 587), ('tigermeathoodie\\ufeff', 588), ('andrijamatf', 589), ('12', 590), ('yr', 591), ('producer', 592), ('chiptunes', 593), ('wonderful', 594), ('remixes', 595), ('gangnamstyle', 596), ('kyle', 597), ('not\\ufeff', 598), ('martin', 599), ('luther', 600), ('king', 601), ('jr', 602), ('goodbye', 603), ('reason', 604), ('dubstep', 605), ('fireball', 606), ('fruity', 607), ('loops', 608), ('teloa6rio8o\\ufeff', 609), ('soon\\ufeff', 610), ('dafuq', 611), ('big', 612), ('usa', 613), ('koreans', 614), ('bomb', 615), ('succesfull', 616), ('pplease', 617), ('seconds', 618), ('thanks\\ufeff', 619), ('yt', 620), ('grateful', 621), ('peoples', 622), ('clip', 623), ('bf4', 624), ('advice', 625), ('sure', 626), ('haters', 627), ('win\\ufeff', 628), ('effects', 629), ('foto', 630), ('sites', 631), ('another', 632), ('find', 633), ('audiojungle', 634), ('net', 635), ('user', 636), ('eugenekalinin', 637), ('portfolio', 638), ('eugenekalinin\\ufeff', 639), ('codytolleson', 640), ('roblox', 641), ('warcraft', 642), ('gta5', 643), ('mario', 644), ('must', 645), ('czfcxsn0jnq', 646), ('jaroadc', 647), ('stream', 648), ('hip', 649), ('hop', 650), ('sound', 651), ('dizzy', 652), ('juice', 653), ('prod', 654), ('drugs', 655), ('model', 656), ('citizen', 657), ('lazy', 658), ('prophetz\\ufeff', 659), ('884', 660), ('034', 661), ('783', 662), ('count', 663), ('hour', 664), ('avaaz', 665), ('po', 666), ('petition', 667), ('corporation', 668), ('fox', 669), ('broadcasting', 670), ('anular', 671), ('os', 672), ('strikes', 673), ('canal', 674), ('nostalgia', 675), ('cxpzpgb', 676), ('thumbs', 677), ('hw', 678), ('got\\ufeff', 679), ('xx\\ufeff', 680), ('often', 681), ('2x10', 682), ('avoid', 683), ('baby\\ufeff', 684), ('yet', 685), ('brew', 686), ('crew', 687), ('134470083389909', 688), ('win', 689), ('iphone', 690), ('5s', 691), ('superbowl', 692), ('petitions', 693), ('national', 694), ('league', 695), ('allow', 696), ('perform', 697), ('bowl', 698), ('halftime', 699), ('sevadus\\ufeff', 700), ('tankionline', 701), ('cd92db3f4', 702), ('has\\ufeff', 703), ('chuck', 704), ('norrus', 705), ('ovbiously', 706), ('behold', 707), ('ever\\ufeff', 708), ('gonna', 709), ('969', 710), ('210', 711), ('themselves\\ufeff', 712), ('korean\\ufeff', 713), ('oldspice', 714), ('spraytan', 715), ('party', 716), ('commercial', 717), ('sitting', 718), ('billions', 719), ('diys', 720), ('challenges', 721), ('thx', 722), ('131338190916', 723), ('guardalo', 724), ('cats', 725), ('gatti', 726), ('pazzi', 727), ('divertenti', 728), ('2013', 729), ('5287', 730), ('100000415527985', 731), ('drones', 732), ('kamal', 733), ('tayara', 734), ('drone', 735), ('4604617\\ufeff', 736), ('whats', 737), ('trying', 738), ('showcase', 739), ('3000', 740), ('spread', 741), ('around', 742), ('lucas', 743), ('trigo', 744), ('php', 745), ('10200253113705769', 746), ('set', 747), ('vb', 748), ('201470069872822', 749), ('permpage', 750), ('leader', 751), ('angel', 752), ('rookie', 753), ('pop', 754), ('four', 755), ('members', 756), ('chanicka', 757), ('julie', 758), ('stephanie', 759), ('leah', 760), ('feel', 761), ('criticism', 762), (\"we're\", 763), ('notch', 764), ('singers', 765), ('constructive', 766), ('management', 767), ('plan', 768), ('jyp', 769), ('bighit', 770), ('jellyfish', 771), ('yg', 772), ('sm', 773), ('thank', 774), ('taking', 775), ('woobox', 776), ('33gxrf', 777), ('brt0u5', 778), ('cs', 779), ('admit', 780), ('number', 781), ('viewers', 782), ('viewing', 783), ('apparently', 784), ('out\\ufeff', 785), ('bad', 786), ('5277478', 787), ('79', 788), ('binbox', 789), ('io', 790), ('1firo', 791), ('123\\ufeff', 792), ('ling', 793), ('long', 794), ('ding', 795), ('ring', 796), ('yaaaaaa', 797), ('ganga', 798), ('cleaning', 799), ('pan', 800), ('halp', 801), ('project\\ufeff', 802), ('brother', 803), ('psn', 804), ('happy', 805), ('codes', 806), ('amazing', 807), ('50', 808), ('xxbb5tczhm39hvzd\\ufeff', 809), ('things', 810), ('non', 811), ('countries', 812), ('jelly', 813), ('learn', 814), ('asia', 815), ('looking', 816), ('plizz', 817), ('withing', 818), ('unique', 819), ('angry', 820), ('littlebrother\\ufeff', 821), ('subscribes', 822), ('subscribers\\ufeff', 823), ('thepiratebay', 824), ('se', 825), ('torrent', 826), ('6381501', 827), ('timothy', 828), ('sykes', 829), ('collection\\ufeff', 830), ('way', 831), ('decent', 832), ('said', 833), ('visiting', 834), ('itz', 835), ('recaps', 836), ('above', 837), ('diddle\\ufeff', 838), ('screw', 839), ('crap', 840), ('speaking', 841), ('emerson', 842), ('zanol\\ufeff', 843), ('visuelgamingznl', 844), ('back\\ufeff', 845), ('gangam', 846), ('weird', 847), ('ehi', 848), ('lexis', 849), ('band', 850), ('uploading', 851), ('their', 852), ('own', 853), ('songs', 854), ('grwmps\\ufeff', 855), ('funnytortspics', 856), ('112720997191206369631', 857), ('post\\ufeff', 858), ('2012bitches\\ufeff', 859), ('milions', 860), ('comentars', 861), ('bilion', 862), ('zero\\ufeff', 863), ('mix', 864), ('124', 865), ('821', 866), ('694', 867), ('apocalypse', 868), ('greetings', 869), ('spoderman', 870), ('please\\ufeff', 871), ('124923004', 872), ('wiews', 873), ('grow', 874), ('anyway\\ufeff', 875), ('crazy', 876), ('republic', 877), ('asia\\ufeff', 878), ('discover', 879), ('young', 880), ('moroccan', 881), ('linkbucks', 882), ('acn2g\\ufeff', 883), ('spending', 884), ('cash', 885), ('nike', 886), ('gamestop', 887), ('etc', 888), ('easy', 889), ('doing', 890), ('simple', 891), ('downloading', 892), ('inviting', 893), ('friends', 894), ('signup', 895), ('sign', 896), ('today', 897), ('promo', 898), ('bd3721315\\ufeff', 899), ('somebody', 900), ('wake', 901), ('lots', 902), ('gay', 903), ('gotta', 904), ('worth', 905), ('clicked', 906), ('everything', 907), ('went', 908), ('uphill', 909), (\"jb's\", 910), ('❤️❤️❤️❤️\\ufeff', 911), ('ahhh', 912), ('reverbnation', 913), ('msmarilynmiles\\ufeff', 914), ('starlitnightsky', 915), ('videos\\ufeff', 916), ('kodysman', 917), ('doesnt', 918), ('visits', 919), ('thousands', 920), ('millions\\ufeff', 921), ('gcmforex', 922), ('partners', 923), ('aw', 924), ('joint2', 925), ('affiliateid', 926), ('9107\\ufeff', 927), ('men', 928), ('allot', 929), ('effort', 930), ('into', 931), ('unfortunatly', 932), ('www10', 933), ('vakinha', 934), ('br', 935), ('vaquinhae', 936), ('313327', 937), ('vip', 938), ('cross', 939), ('fire', 940), ('al\\ufeff', 941), ('tlouxmusic\\ufeff', 942), ('singing', 943), ('covers\\ufeff', 944), ('place', 945), ('promote', 946), ('channels', 947), ('pal', 948), ('pivot', 949), ('animations', 950), ('ig', 951), ('killuminati94\\ufeff', 952), ('sunfrogshirts', 953), ('sunglass', 954), ('html', 955), ('24398\\ufeff', 956), ('teelalala\\ufeff', 957), ('zxlightsoutxz\\ufeff', 958), ('reminds', 959), ('popaegis', 960), ('wrenn', 961), ('almond', 962), ('eyes\\ufeff', 963), ('swagbucks', 964), ('rb', 965), ('13017194\\ufeff', 966), ('search', 967), ('chubbz', 968), ('dinero', 969), ('mscalifornia95\\ufeff', 970), ('😫😓😏😪😔😖😌😭😎😚😘😙😗😋😝😜😛😍😒😞😷😶😵😳😲😱😟😰😩😨😧😦😥😤😣😮😴😢😡😠😬😕😑😐😯😉😈😇😆😅😄😃😂😁😀😊☺', 971), ('single', 972), ('types', 973), ('earth\\ufeff', 974), ('▬▬▬▬▬▬▬▬▬▬ஜ۩۞۩ஜ▬▬▬▬▬▬▬▬', 975), ('ｄａｍｎ', 976), ('ｔｈｉｓ', 977), ('ｃｏｍｍｅｎｔ', 978), ('ｉｓ', 979), ('ｆａｎｃy', 980), ('▬▬▬▬▬▬▬▬▬▬ஜ۩۞۩ஜ▬▬▬▬▬▬▬▬\\ufeff', 981), (\"'static'\", 982), ('incmedia', 983), ('truth', 984), ('meets', 985), ('pe', 986), ('lets', 987), ('found', 988), ('now\\ufeff', 989), ('bubblews', 990), ('9277547', 991), ('peace', 992), ('brotherhood\\ufeff', 993), ('wouldnt', 994), ('chacking', 995), ('il', 996), ('giver', 997), ('like\\ufeff', 998), ('gp', 999), ('offer', 1000), ('listing', 1001), ('b00ecvf93g', 1002), ('olp', 1003), ('tab', 1004), ('ie', 1005), ('utf8', 1006), ('condition', 1007), ('psy’s', 1008), ('“gangnam', 1009), ('style”', 1010), ('flipagram', 1011), ('f', 1012), ('luka1qmrhf\\ufeff', 1013), ('gvr7xg\\ufeff', 1014), ('censor', 1015), ('julien', 1016), ('blanc', 1017), ('jackal', 1018), ('james', 1019), ('wrap', 1020), ('night\\ufeff', 1021), ('surveymonkey', 1022), ('s', 1023), ('cvhmklt\\ufeff', 1024), (\"won't\", 1025), ('disappointed', 1026), ('viral', 1027), ('true\\ufeff', 1028), ('vidios\\ufeff', 1029), ('700', 1030), ('bots', 1031), ('bs', 1032), ('awesomeness', 1033), ('aaaaaaa', 1034), ('lada😂\\ufeff', 1035), ('world\\ufeff', 1036), ('shit\\ufeff', 1037), ('dear', 1038), ('loving', 1039), ('day\\ufeff', 1040), ('v3veygin\\ufeff', 1041), ('tried', 1042), ('special', 1043), (\"to'll\", 1044), ('registr', 1045), ('life\\ufeff', 1046), ('yellow', 1047), ('suit', 1048), ('kinda', 1049), ('looks', 1050), ('jae', 1051), ('suk', 1052), ('difference', 1053), ('commenting', 1054), ('liking', 1055), ('waste', 1056), ('being', 1057), ('everyday', 1058), ('slema13', 1059), ('wellcome', 1060), ('theres', 1061), ('accounts', 1062), ('1111\\ufeff', 1063), ('wat', 1064), ('da', 1065), ('this\\ufeff', 1066), ('tareko100', 1067), ('enter', 1068), ('keyword', 1069), ('5800', 1070), ('winning', 1071), ('csgo', 1072), ('sell', 1073), ('steam', 1074), ('market\\ufeff', 1075), ('492', 1076), ('636', 1077), ('aseris', 1078), ('fantastic', 1079), ('billion\\ufeff', 1080), ('521', 1081), ('750', 1082), ('23', 1083), ('min', 1084), ('ago\\ufeff', 1085), ('repass', 1086), ('4shared', 1087), ('preview', 1088), ('pdf', 1089), ('cjfoftxeba', 1090), ('liked', 1091), ('later', 1092), ('kind', 1093), ('making', 1094), ('launchpad', 1095), (\"video's\", 1096), ('subs', 1097), ('spot', 1098), ('easily', 1099), ('bother', 1100), ('dunno', 1101), ('joke', 1102), ('r', 1103), ('y', 1104), ('k', 1105), ('n', 1106), ('g', 1107), ('gangman', 1108), ('drop', 1109), ('bass', 1110), ('rapper', 1111), ('songwriter', 1112), ('29', 1113), ('24', 1114), ('elevator', 1115), ('excuse', 1116), ('prehistoric', 1117), ('been\\ufeff', 1118), ('headbutt', 1119), ('ex', 1120), ('enimen', 1121), ('loool', 1122), ('understands', 1123), ('♡\\ufeff', 1124), (\"''little\", 1125), ('instagram', 1126), ('chris', 1127), ('cz', 1128), ('relevant', 1129), ('old\\ufeff', 1130), ('completely', 1131), ('job', 1132), ('02', 1133), ('camera', 1134), ('man', 1135), ('glasses', 1136), ('wrong\\ufeff', 1137), ('singer', 1138), ('koean', 1139), ('chainise', 1140), ('ana', 1141), ('05', 1142), ('hahahahah', 1143), ('equals', 1144), ('smartie', 1145), ('pants\\ufeff', 1146), ('point', 1147), ('listening', 1148), ('stfu', 1149), ('2009', 1150), ('america', 1151), ('jap', 1152), ('worthless', 1153), ('fish', 1154), ('untanlted', 1155), ('gook', 1156), ('isnt', 1157), ('fucken', 1158), ('fucked', 1159), ('remember', 1160), ('obsessed', 1161), ('😗\\ufeff', 1162), ('remove', 1163), ('wank\\ufeff', 1164), ('ithat', 1165), ('actor', 1166), ('hwang', 1167), ('minoo', 1168), ('month', 1169), ('believe', 1170), ('future', 1171), ('superstar', 1172), ('stronglittlepsy', 1173), ('fighting', 1174), ('ygunited', 1175), ('11', 1176), ('08', 1177), ('keeps', 1178), ('updated', 1179), ('minutes', 1180), ('279', 1181), ('898', 1182), ('users', 1183), ('fake', 1184), ('account', 1185), ('youtube\\ufeff', 1186), ('saw', 1187), ('yeat', 1188), ('words', 1189), ('hole', 1190), ('voyage', 1191), ('😢\\ufeff', 1192), ('problem', 1193), ('phenomena', 1194), ('behind', 1195), ('random', 1196), ('slut', 1197), ('bitch', 1198), ('hyuna', 1199), (\"'33\\ufeff\", 1200), ('kollektivet', 1201), (\"slappin'\", 1202), ('penis', 1203), ('credit', 1204), ('receive', 1205), ('fun', 1206), ('post', 1207), ('reviews', 1208), ('flute', 1209), ('dealing', 1210), ('theories', 1211), (\"could've\", 1212), ('gotten', 1213), ('realy', 1214), ('access', 1215), ('internet', 1216), ('including', 1217), ('numbers', 1218), ('rising', 1219), ('2017', 1220), ('populatoin', 1221), ('connected', 1222), ('hackers', 1223), ('may', 1224), ('rised', 1225), ('featured', 1226), ('mp3s', 1227), ('seen', 1228), ('concerts', 1229), ('eve', 1230), ('event', 1231), ('2012', 1232), ('seeing', 1233), ('adding', 1234), ('complaining', 1235), ('heck', 1236), ('2b', 1237), ('chanel\\ufeff', 1238), ('queen', 1239), ('omg\\ufeff', 1240), ('pause', 1241), ('39', 1242), ('millisecond', 1243), ('chick', 1244), ('few', 1245), ('tries', 1246), ('year', 1247), ('olds', 1248), (\"'how\", 1249), (\"world'\\ufeff\", 1250), ('guy\\ufeff', 1251), ('annoying\\ufeff', 1252), ('mathster', 1253), ('wp', 1254), ('1495323920744243', 1255), ('hl\\ufeff', 1256), ('millioon', 1257), ('dislikesssssssssssssssssssssssssssssssss', 1258), ('lucks', 1259), ('kidz', 1260), ('billon', 1261), ('millon', 1262), ('facts', 1263), ('humanity', 1264), ('is\\ufeff', 1265), ('called', 1266), ('odowd', 1267), ('crowd', 1268), ('movie', 1269), ('translate', 1270), ('second', 1271), ('comes', 1272), ('smh', 1273), ('to\\ufeff', 1274), ('tsū', 1275), ('publishing', 1276), ('platform', 1277), ('markusmairhofer\\ufeff', 1278), ('315', 1279), ('950', 1280), ('daaaaaaaaaaannng', 1281), ('dominate', 1282), ('322', 1283), ('484', 1284), ('officialpsy', 1285), ('fail', 1286), ('fanboys', 1287), ('knew', 1288), ('funnier', 1289), ('bit', 1290), ('end', 1291), ('spoken', 1292), ('rapidly', 1293), ('enough', 1294), ('two', 1295), ('summon', 1296), ('freddy', 1297), (\"mercury's\", 1298), ('ghost', 1299), ('whipe', 1300), ('direction', 1301), ('miley', 1302), ('cirus', 1303), ('round', 1304), ('public', 1305), ('pouring', 1306), ('bucket', 1307), ('ice', 1308), ('water', 1309), ('running', 1310), ('acting', 1311), (\"wasn't\", 1312), ('shares\\ufeff', 1313), ('dylan', 1314), ('irl', 1315), ('1030', 1316), ('300', 1317), ('tomorrow', 1318), ('hunger', 1319), ('follower', 1320), ('lists', 1321), ('161620527267482\\ufeff', 1322), ('beibs', 1323), (\"doesn't\", 1324), ('capitalized', 1325), ('name\\ufeff', 1326), ('tazz', 1327), ('friend\\ufeff', 1328), ('bottom', 1329), ('heart', 1330), ('19', 1331), ('9082175\\ufeff', 1332), ('schoolgeniusnits', 1333), ('ms', 1334), ('ejw9kvkoxdamqm808h5z', 1335), ('4snjqp', 1336), ('thqbeum69aqup1ih', 1337), ('fphgk5zllsvdqv0zuf0mb', 1338), ('lnuj', 1339), ('ufth4yokfrxyts2zvrrp6qgtw67y', 1340), ('l551h', 1341), ('f7', 1342), ('vlczzrg8vgctlpsd9ongewhj8', 1343), ('gibu', 1344), ('s3lzmvy', 1345), ('iq2', 1346), ('twsfzz9whn7jusvhufpglqrzczl05fnphagevb3x8ydmc6x', 1347), ('jtcjnmho', 1348), ('vfxwcjzyvwobihrngx2ocjng2pg1evhxzyjd', 1349), ('o3h', 1350), ('ry6f57sprnd2xv', 1351), ('bzszz', 1352), ('bps', 1353), ('390875584405933', 1354), ('391725794320912', 1355), ('sucscribe', 1356), ('vaahidmustafic', 1357), ('4436607', 1358), ('offıcal', 1359), ('nicushorbboy', 1360), ('mee', 1361), ('sorry', 1362), ('jenny', 1363), ('high', 1364), ('dresses', 1365), ('fashionable', 1366), ('cute', 1367), ('low', 1368), ('esteem', 1369), ('dad', 1370), ('passed', 1371), ('mother', 1372), ('figure', 1373), ('brothers', 1374), ('older', 1375), ('since', 1376), ('boys', 1377), ('attention', 1378), ('wear', 1379), ('boyfriend', 1380), (\"can't\", 1381), ('shy', 1382), ('confidence', 1383), ('talk', 1384), ('someone', 1385), ('caroline', 1386), ('moved', 1387), ('donate', 1388), ('brand', 1389), ('shop', 1390), ('walmart', 1391), ('wanna', 1392), ('nails', 1393), ('alot', 1394), ('french', 1395), ('tips', 1396), ('nail', 1397), ('hair', 1398), ('curled', 1399), ('dressprettyonce', 1400), ('throw', 1401), ('fly', 1402), ('burned', 1403), ('alive\\ufeff', 1404), ('chhanel', 1405), ('daily', 1406), ('hav', 1407), ('idea', 1408), (\"he's\", 1409), ('language', 1410), ('vidios', 1411), ('wonder', 1412), ('illuminati', 1413), ('confirmed', 1414), ('craft', 1415), ('shoot', 1416), ('20', 1417), ('count\\ufeff', 1418), ('lordviperas\\ufeff', 1419), ('shitty', 1420), ('government', 1421), (\"didn't\", 1422), ('block', 1423), (\"there'd\", 1424), ('close', 1425), ('record', 1426), ('drunk', 1427), ('during', 1428), ('limit', 1429), ('sun', 1430), ('exposure', 1431), ('driving', 1432), ('eliminate', 1433), ('hassle', 1434), ('swing', 1435), ('car', 1436), ('visor', 1437), ('between', 1438), ('windshield', 1439), ('window', 1440), ('kickstarter', 1441), ('733634264', 1442), ('visortwin\\ufeff', 1443), ('hahah', 1444), ('juyk', 1445), ('allways', 1446), ('57', 1447), ('5242575\\ufeff', 1448), ('dances', 1449), ('00', 1450), ('58', 1451), ('fudairyqueen', 1452), ('pnref', 1453), ('story\\ufeff', 1454), ('haha', 1455), ('westerners', 1456), ('goes', 1457), ('thewaxedhatco\\ufeff', 1458), ('imagine', 1459), ('adsense', 1460), ('morgage\\ufeff', 1461), ('let', 1462), ('forget', 1463), ('train', 1464), ('outfit', 1465), ('huge', 1466), ('turn', 1467), ('off', 1468), ('lacked', 1469), ('eyebrows', 1470), ('difficult', 1471), ('1340524', 1472), ('1340523', 1473), ('1340522', 1474), ('1340521', 1475), ('1340520', 1476), ('1340519', 1477), ('1340518', 1478), ('1340517', 1479), ('1340504', 1480), ('1340503', 1481), ('1340502', 1482), ('1340500', 1483), ('1340499', 1484), ('1340494', 1485), ('1340493', 1486), ('1340492', 1487), ('1340491', 1488), ('1340490', 1489), ('1340489', 1490), ('1340488', 1491), ('entertaining', 1492), ('shotgun', 1493), ('ninja', 1494), ('defuse', 1495), ('trolling', 1496), ('certain', 1497), ('amount', 1498), ('tofikmiedzynb', 1499), ('1496273723978022', 1500), ('1073741828', 1501), ('1496241863981208', 1502), ('1498561870415874', 1503), ('eeccon', 1504), ('733949243353321', 1505), ('734237113324534', 1506), ('offset', 1507), ('total', 1508), ('74', 1509), ('frigea', 1510), ('marius', 1511), ('gabriel', 1512), ('explore', 1513), ('publ', 1514), ('referafriend', 1515), ('crea', 1516), ('rrid', 1517), ('0f9fa8aa', 1518), ('243a', 1519), ('5c2f', 1520), ('c349', 1521), ('ede05ea397ca', 1522), ('cant', 1523), ('virus', 1524), ('blue', 1525), ('4th', 1526), ('sold', 1527), ('treechristmas\\ufeff', 1528), ('1m', 1529), ('crdits', 1530), ('app', 1531), ('·', 1532), ('freemyapps', 1533), ('url', 1534), ('5af506e1\\ufeff', 1535), ('smh\\ufeff', 1536), ('something', 1537), ('everyones', 1538), ('lool', 1539), ('hear', 1540), ('call', 1541), ('duty', 1542), ('aways', 1543), ('editor', 1544), ('store', 1545), ('details', 1546), ('butalabs', 1547), ('editor\\ufeff', 1548), ('thought', 1549)])\n"
          ]
        }
      ]
    },
    {
      "cell_type": "code",
      "metadata": {
        "colab": {
          "base_uri": "https://localhost:8080/"
        },
        "id": "XdG-Xlg8ASp-",
        "outputId": "1f57206e-e6df-424e-8f00-708a1e86d468"
      },
      "source": [
        "print('Размер словаря ',len(tokenizer.word_index.items()))"
      ],
      "execution_count": 7,
      "outputs": [
        {
          "output_type": "stream",
          "name": "stdout",
          "text": [
            "Размер словаря  1549\n"
          ]
        }
      ]
    },
    {
      "cell_type": "code",
      "metadata": {
        "id": "EsIMMjq4AgbV",
        "colab": {
          "base_uri": "https://localhost:8080/"
        },
        "outputId": "d2ed82f0-f1ab-4db3-bedf-898b9cfe1f34"
      },
      "source": [
        "encoder = LabelEncoder()\n",
        "encoder.fit(classes)\n",
        "classesEncoded = encoder.transform(classes)\n",
        "print(classesEncoded[:10])\n"
      ],
      "execution_count": 8,
      "outputs": [
        {
          "output_type": "stream",
          "name": "stdout",
          "text": [
            "[1 1 1 1 1 1 1 0 1 1]\n"
          ]
        }
      ]
    },
    {
      "cell_type": "code",
      "metadata": {
        "colab": {
          "base_uri": "https://localhost:8080/"
        },
        "id": "17ysd95RHLR_",
        "outputId": "4b57c695-b914-4518-a286-c3ba4bdb4a09"
      },
      "source": [
        "yall = utils.to_categorical(classesEncoded, nClasses)\n",
        "print(yall.shape) \n",
        "print(yall[0])"
      ],
      "execution_count": 9,
      "outputs": [
        {
          "output_type": "stream",
          "name": "stdout",
          "text": [
            "(350, 3)\n",
            "[0. 1. 0.]\n"
          ]
        }
      ]
    },
    {
      "cell_type": "code",
      "metadata": {
        "id": "yXqXQx_6Iiry",
        "colab": {
          "base_uri": "https://localhost:8080/"
        },
        "outputId": "a64671d2-a327-458c-bd9b-f7b1696b4d22"
      },
      "source": [
        "xtrain, xval, ytrain, yval = train_test_split(xall, yall, test_size=0.2, shuffle=True)\n",
        "print(xtrain.shape)\n",
        "print(ytrain.shape)"
      ],
      "execution_count": 10,
      "outputs": [
        {
          "output_type": "stream",
          "name": "stdout",
          "text": [
            "(280, 60000)\n",
            "(280, 3)\n"
          ]
        }
      ]
    },
    {
      "cell_type": "code",
      "metadata": {
        "colab": {
          "base_uri": "https://localhost:8080/"
        },
        "id": "iFgWwZboMzsS",
        "outputId": "5e8cfc42-a8d2-4cf1-e9b7-2c8ffcc50543"
      },
      "source": [
        "Sequences = tokenizer.texts_to_sequences(texts)\n",
        "npSeque = np.array(Sequences)\n",
        "xtrainE, xvalE, ytrainE, yvalE = train_test_split(npSeque, yall, test_size=0.2, shuffle=True)\n",
        "print(xtrainE.shape)\n",
        "print(ytrainE.shape) "
      ],
      "execution_count": 11,
      "outputs": [
        {
          "output_type": "stream",
          "name": "stdout",
          "text": [
            "(280,)\n",
            "(280, 3)\n"
          ]
        },
        {
          "output_type": "stream",
          "name": "stderr",
          "text": [
            "/usr/local/lib/python3.7/dist-packages/ipykernel_launcher.py:2: VisibleDeprecationWarning: Creating an ndarray from ragged nested sequences (which is a list-or-tuple of lists-or-tuples-or ndarrays with different lengths or shapes) is deprecated. If you meant to do this, you must specify 'dtype=object' when creating the ndarray.\n",
            "  \n"
          ]
        }
      ]
    },
    {
      "cell_type": "code",
      "metadata": {
        "id": "sEgKoImUPHme"
      },
      "source": [
        "model = Sequential()\n",
        "model.add(Dense(200, input_dim=maxWordsCount, activation='relu'))\n",
        "model.add(Dropout(0.3))\n",
        "model.add(Dense(100, activation='relu'))\n",
        "model.add(Dropout(0.3))\n",
        "model.add(Dense(100, activation='relu'))\n",
        "model.add(Dropout(0.3))\n",
        "model.add(Dense(nClasses, activation='softmax'))\n",
        "\n",
        "model.compile(optimizer='adam',loss='categorical_crossentropy', metrics=['accuracy'])\n"
      ],
      "execution_count": 12,
      "outputs": []
    },
    {
      "cell_type": "code",
      "metadata": {
        "colab": {
          "base_uri": "https://localhost:8080/",
          "height": 973
        },
        "id": "EOtJUBXkRbb2",
        "outputId": "32c58a08-0c22-449b-e746-3aa27fea2ccc"
      },
      "source": [
        "history = model.fit(xtrain, ytrain, epochs=20,batch_size=25,validation_data=(xval,yval))\n",
        "\n",
        "plt.plot(history.history['accuracy'], label='Доля верных ответов на обучающей выборке')\n",
        "plt.plot(history.history['val_accuracy'], label='Доля верных ответов на тестовой выборке')\n",
        "plt.xlabel('Эпоха обучения')\n",
        "plt.ylabel('Доля верных ответов')\n",
        "plt.legend()\n",
        "plt.show()"
      ],
      "execution_count": 13,
      "outputs": [
        {
          "output_type": "stream",
          "name": "stdout",
          "text": [
            "Epoch 1/20\n",
            "12/12 [==============================] - 3s 30ms/step - loss: 1.0455 - accuracy: 0.5250 - val_loss: 0.9484 - val_accuracy: 0.4714\n",
            "Epoch 2/20\n",
            "12/12 [==============================] - 0s 11ms/step - loss: 0.7450 - accuracy: 0.6321 - val_loss: 0.5999 - val_accuracy: 0.6857\n",
            "Epoch 3/20\n",
            "12/12 [==============================] - 0s 11ms/step - loss: 0.3320 - accuracy: 0.9214 - val_loss: 0.2016 - val_accuracy: 0.9714\n",
            "Epoch 4/20\n",
            "12/12 [==============================] - 0s 11ms/step - loss: 0.0842 - accuracy: 0.9929 - val_loss: 0.1346 - val_accuracy: 0.9571\n",
            "Epoch 5/20\n",
            "12/12 [==============================] - 0s 12ms/step - loss: 0.0272 - accuracy: 0.9964 - val_loss: 0.1355 - val_accuracy: 0.9571\n",
            "Epoch 6/20\n",
            "12/12 [==============================] - 0s 12ms/step - loss: 0.0081 - accuracy: 1.0000 - val_loss: 0.1140 - val_accuracy: 0.9571\n",
            "Epoch 7/20\n",
            "12/12 [==============================] - 0s 11ms/step - loss: 0.0033 - accuracy: 1.0000 - val_loss: 0.1196 - val_accuracy: 0.9571\n",
            "Epoch 8/20\n",
            "12/12 [==============================] - 0s 11ms/step - loss: 0.0021 - accuracy: 1.0000 - val_loss: 0.2034 - val_accuracy: 0.9429\n",
            "Epoch 9/20\n",
            "12/12 [==============================] - 0s 11ms/step - loss: 0.0018 - accuracy: 1.0000 - val_loss: 0.2203 - val_accuracy: 0.9429\n",
            "Epoch 10/20\n",
            "12/12 [==============================] - 0s 12ms/step - loss: 0.0011 - accuracy: 1.0000 - val_loss: 0.2144 - val_accuracy: 0.9571\n",
            "Epoch 11/20\n",
            "12/12 [==============================] - 0s 11ms/step - loss: 9.4403e-04 - accuracy: 1.0000 - val_loss: 0.2089 - val_accuracy: 0.9571\n",
            "Epoch 12/20\n",
            "12/12 [==============================] - 0s 11ms/step - loss: 8.9341e-04 - accuracy: 1.0000 - val_loss: 0.2020 - val_accuracy: 0.9571\n",
            "Epoch 13/20\n",
            "12/12 [==============================] - 0s 12ms/step - loss: 8.9195e-04 - accuracy: 1.0000 - val_loss: 0.1968 - val_accuracy: 0.9571\n",
            "Epoch 14/20\n",
            "12/12 [==============================] - 0s 11ms/step - loss: 6.0221e-04 - accuracy: 1.0000 - val_loss: 0.1919 - val_accuracy: 0.9571\n",
            "Epoch 15/20\n",
            "12/12 [==============================] - 0s 11ms/step - loss: 4.2395e-04 - accuracy: 1.0000 - val_loss: 0.1907 - val_accuracy: 0.9571\n",
            "Epoch 16/20\n",
            "12/12 [==============================] - 0s 11ms/step - loss: 9.7360e-04 - accuracy: 1.0000 - val_loss: 0.1948 - val_accuracy: 0.9571\n",
            "Epoch 17/20\n",
            "12/12 [==============================] - 0s 12ms/step - loss: 3.1082e-04 - accuracy: 1.0000 - val_loss: 0.1942 - val_accuracy: 0.9571\n",
            "Epoch 18/20\n",
            "12/12 [==============================] - 0s 11ms/step - loss: 4.3274e-04 - accuracy: 1.0000 - val_loss: 0.1985 - val_accuracy: 0.9571\n",
            "Epoch 19/20\n",
            "12/12 [==============================] - 0s 12ms/step - loss: 2.8093e-04 - accuracy: 1.0000 - val_loss: 0.2007 - val_accuracy: 0.9571\n",
            "Epoch 20/20\n",
            "12/12 [==============================] - 0s 13ms/step - loss: 5.1365e-04 - accuracy: 1.0000 - val_loss: 0.1975 - val_accuracy: 0.9571\n"
          ]
        },
        {
          "output_type": "display_data",
          "data": {
            "text/plain": [
              "<Figure size 432x288 with 1 Axes>"
            ],
            "image/png": "[encoded data removed]"
          },
          "metadata": {
            "needs_background": "light"
          }
        }
      ]
    },
    {
      "cell_type": "markdown",
      "metadata": {
        "id": "MaHd9ZMsTu8f"
      },
      "source": [
        "Получена точность 98,5%"
      ]
    }
  ]
}